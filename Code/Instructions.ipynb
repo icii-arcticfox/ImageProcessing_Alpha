{
  "cells": [
    {
      "cell_type": "markdown",
      "id": "80445652",
      "metadata": {},
      "source": [
        "# Second Step, Let's Go!"
      ]
    },
    {
      "cell_type": "markdown",
      "id": "6bf4861d",
      "metadata": {},
      "source": [
        "Now that we're past Hello World, let's incorporate the Arctic Fox Marketplace and do something a little more interesting!"
      ]
    },
    {
      "cell_type": "markdown",
      "id": "3590343d",
      "metadata": {},
      "source": [
        "# Add Image Processing Package"
      ]
    },
    {
      "cell_type": "markdown",
      "id": "15987681",
      "metadata": {},
      "source": [
        "First, go to the Arctic Fox Marketplace using the link below and select the ImageProcessing package. From the package page, mouse over the package and click Add Package. This will ask to open a link and then Arctic Fox will add the ImageProcessing package to this project. \n",
        "\n",
        "[Arctic Fox Marketplace](https://arcticfoxalpha.com/artifact/list-all-public/)"
      ]
    },
    {
      "cell_type": "markdown",
      "id": "9e4a148d",
      "metadata": {},
      "source": [
        "# Open and View Image"
      ]
    },
    {
      "cell_type": "markdown",
      "id": "a448d344",
      "metadata": {},
      "source": [
        "First things we like to do when working with images or data are:\n",
        "- Get the image into our script\n",
        "- View the image so we know our input and output are functional\n",
        "\n",
        "Therefore, respectively: \n",
        "- Add a **Data** automation and pass in our file, Philadelphia.jpg. You can pass the item in using the --name parameter, or without the identifier. \n",
        "- Add a **Visualize** automation. You do not need to pass in an item, the Visualize automation will talk to the Data automation to know the variable name and variable type\n",
        "\n",
        "[Compare to Sandbox.py Solution](./../Solutions/SolutionStep1.py)"
      ]
    },
    {
      "cell_type": "markdown",
      "id": "5b98d729",
      "metadata": {},
      "source": [
        "# Photo Looks, Ehhh.....\n",
        "\n",
        "Okay, when you looked at the photo, you may have thought, ummmmm, that looks uninspiring... The photo is crooked, the colors don't pop, ugh. Let's fix that!"
      ]
    },
    {
      "cell_type": "markdown",
      "id": "69777365",
      "metadata": {},
      "source": [
        "Add each of the following automations in order, after the **Data** automation, and tweak the stated setting. Note that the **Visualize** automation will adjust and use the output of the most recent automation, so you can always run the python file to see your edits. "
      ]
    },
    {
      "cell_type": "markdown",
      "id": "95f38723",
      "metadata": {},
      "source": [
        "### Rotate\n",
        "First, let's fix the rotation issue of the image. Add a **Rotate** automation. Tweek the degree amount as a decimal number until you are happy with the result. \n",
        "\n",
        "[Compare to Sandbox.py Solution](./../Solutions/SolutionStep2.py)"
      ]
    },
    {
      "cell_type": "markdown",
      "id": "24541338",
      "metadata": {},
      "source": [
        "### Crop\n",
        "You likely have some \"black bars\" from the rotation. Add a **Crop** automation with an <span style=\"color:lightseagreen\">--amount</span> item and adjust the amount as a percentage. \n",
        "\n",
        "[Compare to Sandbox.py Solution](./../Solutions/SolutionStep3.py)"
      ]
    },
    {
      "cell_type": "markdown",
      "id": "67534237",
      "metadata": {},
      "source": [
        "### Brighten\n",
        "Let's make the color pop a little more. Add a **Brighten** automation and adjust the amount as a percent. \n",
        "\n",
        "[Compare to Sandbox.py Solution](./../Solutions/SolutionStep4.py)"
      ]
    },
    {
      "cell_type": "markdown",
      "id": "60763304",
      "metadata": {},
      "source": [
        "### Saturation\n",
        "Let's make the color pop even more! Add a **Saturation** automation and adjust the amount as a percent. \n",
        "\n",
        "[Compare to Sandbox.py Solution](./../Solutions/SolutionStep5.py)"
      ]
    },
    {
      "cell_type": "markdown",
      "id": "44395209",
      "metadata": {},
      "source": [
        "# A Little More Code...\n",
        "Alright, so those automations were fun, but let's add something that throws way more code into our script! Let's add some functionality that requires more python functions. What we'll do is: \n",
        "- First, add an automation that adds additional functions to our scripts\n",
        "- Add an item to direct the new functions to a separate file\n",
        "\n",
        "### Increase Highlights\n",
        "Say we want to brighten only the highlights, the lighter part, of the image for more contrast. Let's add a **Highlights** automation with <span style=\"color:lightseagreen\">--amount</span> and <span style=\"color:lightseagreen\">--threshold</span> items. \n",
        "- <span style=\"color:lightseagreen\">--amount</span> will influence how much the highlights are brightened, should be a percent, the greater the perent the brighter the highlights will increase\n",
        "- <span style=\"color:lightseagreen\">--threshold</span> will decide, from 0% to 100%, the intensity cutoff for the highlights, having this too low will brighten too many of the darker pixels\n",
        "\n",
        "Once you move off the automation, you will see Arctic Fox write quite a bit of code. Take a look at how the image looks. \n",
        "\n",
        "[Compare to Sandbox.py Solution](./../Solutions/SolutionStep6.py)\n",
        "\n",
        "### Redirect Functions\n",
        "Now, let's assume we don't want all of those helper functions in our script. Add a <span style=\"color:lightseagreen\">--functions</span> item and add a file name, with or without the .py extension. Move off the automation and watch Arctic Fox erase the helper functions. Look in your files and see that a your stated file has been created and the functions written there. Also, notice at the top of Sandbox.py that the added file has been linked into your script!\n",
        "\n",
        "[Compare to Sandbox.py Solution](./../Solutions/SolutionStep7.py)"
      ]
    },
    {
      "cell_type": "markdown",
      "id": "28482985",
      "metadata": {},
      "source": [
        "# See the Result\n",
        "There you go, another alpha step done! Make sure to run the Sandbox.py file to see the improved view of Philadelphia!"
      ]
    }
  ],
  "metadata": {
    "kernelspec": {
      "display_name": "Python 3",
      "language": "python",
      "name": "python3"
    },
    "language_info": {
      "codemirror_mode": {
        "name": "ipython",
        "version": 3
      },
      "file_extension": ".py",
      "mimetype": "text/x-python",
      "name": "python",
      "nbconvert_exporter": "python",
      "pygments_lexer": "ipython3",
      "version": "3.10.6"
    },
    "orig_nbformat": 4
  },
  "nbformat": 4,
  "nbformat_minor": 5
}